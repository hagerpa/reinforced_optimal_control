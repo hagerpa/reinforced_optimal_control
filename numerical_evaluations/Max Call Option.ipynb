{
 "cells": [
  {
   "cell_type": "code",
   "execution_count": 1,
   "metadata": {},
   "outputs": [],
   "source": [
    "import numpy as np\n",
    "from sklearn.model_selection import ParameterGrid\n",
    "import pandas as pd\n",
    "\n",
    "from optimal_control.evaluation.test_cases.discrete.stopping.max_call_option_test_case import MaxCallOptionTestCase\n",
    "from optimal_control.solvers.solver import optimal_control_solution\n",
    "from optimal_control.solvers.discrete import ModifiedForStopping\n",
    "from optimal_control.solvers.discrete.multiple_stopping_dual import multiple_stopping_dual"
   ]
  },
  {
   "cell_type": "code",
   "execution_count": 2,
   "metadata": {},
   "outputs": [],
   "source": [
    "tc = MaxCallOptionTestCase()"
   ]
  },
  {
   "cell_type": "code",
   "execution_count": 3,
   "metadata": {},
   "outputs": [],
   "source": [
    "te = tc.test_environment(\n",
    "        T=3,\n",
    "        J=9,\n",
    "        strike=100.0,\n",
    "        volatility=0.2,\n",
    "        interest_rate=0.05,\n",
    "        dividend=0.1,\n",
    "        rho=0.0,\n",
    "        dimension=8\n",
    "    )"
   ]
  },
  {
   "cell_type": "code",
   "execution_count": 4,
   "metadata": {},
   "outputs": [],
   "source": [
    "X_tr = te.price_model.sample_paths(te.example.T, te.example.n_time_steps, 100_000, (\"dirac\", 100))\n",
    "X_te = te.price_model.sample_paths(te.example.T, te.example.n_time_steps, 100_000, (\"dirac\", 100))\n",
    "X_dual = te.price_model.sample_paths(te.example.T, te.example.n_time_steps, 10_000, (\"dirac\", 100))"
   ]
  },
  {
   "cell_type": "code",
   "execution_count": 5,
   "metadata": {},
   "outputs": [
    {
     "name": "stdout",
     "output_type": "stream",
     "text": [
      "10/10 ->"
     ]
    },
    {
     "data": {
      "text/plain": [
       "34.12295810930016"
      ]
     },
     "execution_count": 5,
     "metadata": {},
     "output_type": "execute_result"
    }
   ],
   "source": [
    "vf = tc.value_function(te, deg=1, max_depth=1, use_order_statistic=True)\n",
    "vf.fit(X_tr)\n",
    "sol, res = optimal_control_solution(X_te, 0, vf, te.example)\n",
    "res.mean()"
   ]
  },
  {
   "cell_type": "code",
   "execution_count": 6,
   "metadata": {},
   "outputs": [
    {
     "name": "stdout",
     "output_type": "stream",
     "text": [
      "10/10 ->"
     ]
    },
    {
     "data": {
      "text/plain": [
       "34.19064958777125"
      ]
     },
     "execution_count": 6,
     "metadata": {},
     "output_type": "execute_result"
    }
   ],
   "source": [
    "vf = tc.value_function(te, deg=2, max_depth=0, use_order_statistic=True)\n",
    "vf.fit(X_tr)\n",
    "sol, res = optimal_control_solution(X_te, 0, vf, te.example)\n",
    "res.mean()"
   ]
  },
  {
   "cell_type": "code",
   "execution_count": 7,
   "metadata": {},
   "outputs": [
    {
     "name": "stdout",
     "output_type": "stream",
     "text": [
      "batch 1/10\n",
      "batch 2/10 increments 8/8 ->\n",
      "batch 3/10 increments 8/8 ->\n",
      "batch 4/10 increments 8/8 ->\n",
      "batch 5/10 increments 8/8 ->\n",
      "batch 6/10 increments 8/8 ->\n",
      "batch 7/10 increments 8/8 ->\n",
      "batch 8/10 increments 8/8 ->\n",
      "batch 9/10 increments 8/8 ->\n",
      "batch 10/10increments 8/8 ->\n",
      "martingale increments 8/8 ->\r"
     ]
    },
    {
     "data": {
      "text/plain": [
       "(34.33711289611092, 0.015613260616161128)"
      ]
     },
     "execution_count": 7,
     "metadata": {},
     "output_type": "execute_result"
    }
   ],
   "source": [
    "multiple_stopping_dual(X_dual, vf, te, n_sub_samples=1000)"
   ]
  },
  {
   "cell_type": "code",
   "execution_count": null,
   "metadata": {},
   "outputs": [],
   "source": []
  }
 ],
 "metadata": {
  "kernelspec": {
   "display_name": "venv",
   "language": "python",
   "name": "venv"
  },
  "language_info": {
   "codemirror_mode": {
    "name": "ipython",
    "version": 3
   },
   "file_extension": ".py",
   "mimetype": "text/x-python",
   "name": "python",
   "nbconvert_exporter": "python",
   "pygments_lexer": "ipython3",
   "version": "3.8.9"
  }
 },
 "nbformat": 4,
 "nbformat_minor": 2
}
