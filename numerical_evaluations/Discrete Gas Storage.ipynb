{
 "cells": [
  {
   "cell_type": "code",
   "execution_count": 5,
   "metadata": {},
   "outputs": [],
   "source": [
    "import numpy as np\n",
    "from optimal_control.evaluation.test_cases.discrete.gas.discrete_gas_storage import DiscreteGasStorageTestCase\n",
    "from optimal_control.solvers.solver import optimal_control_solution\n",
    "from optimal_control.solvers.discrete import RegressionValueFunction"
   ]
  },
  {
   "cell_type": "code",
   "execution_count": 6,
   "metadata": {},
   "outputs": [],
   "source": [
    "tc = DiscreteGasStorageTestCase()"
   ]
  },
  {
   "cell_type": "code",
   "execution_count": 7,
   "metadata": {},
   "outputs": [],
   "source": [
    "te = tc.test_environment(T=1.0, J=31, y_max=8,\n",
    "                         h_max=1, h_min=-1,\n",
    "                         interest_rate=0.1, volatility=0.2,\n",
    "                         mean_revision=0.25, mean=2.5,\n",
    "                         jump_rate=2, jump_mean=6, jump_std=2,\n",
    "                         log_utility=False\n",
    "                        )"
   ]
  },
  {
   "cell_type": "code",
   "execution_count": 8,
   "metadata": {},
   "outputs": [],
   "source": [
    "X_tr = te.price_model.sample_paths(te.example.T, te.example.n_time_steps, 1_000_000, (\"dirac\", 6.0))\n",
    "X_te = te.price_model.sample_paths(te.example.T, te.example.n_time_steps, 1_000_000, (\"dirac\", 6.0))"
   ]
  },
  {
   "cell_type": "code",
   "execution_count": 9,
   "metadata": {},
   "outputs": [
    {
     "data": {
      "text/plain": [
       "[<matplotlib.lines.Line2D at 0x12e3ff820>]"
      ]
     },
     "execution_count": 9,
     "metadata": {},
     "output_type": "execute_result"
    },
    {
     "data": {
      "image/png": "[encoded data removed]",
      "text/plain": [
       "<Figure size 432x288 with 1 Axes>"
      ]
     },
     "metadata": {
      "needs_background": "light"
     },
     "output_type": "display_data"
    }
   ],
   "source": [
    "import matplotlib.pyplot as plt\n",
    "plt.plot(X_tr[np.random.randint(1_000_000)])"
   ]
  },
  {
   "cell_type": "markdown",
   "metadata": {},
   "source": [
    "# Lower Bounds different setups"
   ]
  },
  {
   "cell_type": "code",
   "execution_count": 10,
   "metadata": {},
   "outputs": [
    {
     "name": "stdout",
     "output_type": "stream",
     "text": [
      "31/31 ->"
     ]
    },
    {
     "data": {
      "text/plain": [
       "32.661828694208445"
      ]
     },
     "execution_count": 10,
     "metadata": {},
     "output_type": "execute_result"
    }
   ],
   "source": [
    "vf = tc.value_function(te, deg=0, max_depth=0)\n",
    "vf.fit(X_tr)\n",
    "sol, res = optimal_control_solution(X_te, 4, vf, te.example)\n",
    "res.mean()"
   ]
  },
  {
   "cell_type": "code",
   "execution_count": 16,
   "metadata": {},
   "outputs": [
    {
     "name": "stdout",
     "output_type": "stream",
     "text": [
      "0/30 <--\r"
     ]
    },
    {
     "data": {
      "text/plain": [
       "32.644114059277186"
      ]
     },
     "execution_count": 16,
     "metadata": {},
     "output_type": "execute_result"
    }
   ],
   "source": [
    "vf = tc.value_function(te, deg=1, max_depth=0)\n",
    "vf.fit(X_tr)\n",
    "sol, res = optimal_control_solution(X_te, 4, vf, te.example)\n",
    "res.mean()"
   ]
  },
  {
   "cell_type": "code",
   "execution_count": 17,
   "metadata": {},
   "outputs": [
    {
     "name": "stdout",
     "output_type": "stream",
     "text": [
      "0/30 <--\r"
     ]
    },
    {
     "data": {
      "text/plain": [
       "32.96810381288905"
      ]
     },
     "execution_count": 17,
     "metadata": {},
     "output_type": "execute_result"
    }
   ],
   "source": [
    "vf = tc.value_function(te, deg=2, max_depth=0)\n",
    "vf.fit(X_tr)\n",
    "sol, res = optimal_control_solution(X_te, 4, vf, te.example)\n",
    "res.mean()"
   ]
  },
  {
   "cell_type": "code",
   "execution_count": 18,
   "metadata": {},
   "outputs": [
    {
     "name": "stdout",
     "output_type": "stream",
     "text": [
      "0/30 <--\r"
     ]
    },
    {
     "data": {
      "text/plain": [
       "32.94533430269743"
      ]
     },
     "execution_count": 18,
     "metadata": {},
     "output_type": "execute_result"
    }
   ],
   "source": [
    "vf = tc.value_function(te, deg=3, max_depth=0)\n",
    "vf.fit(X_tr)\n",
    "sol, res = optimal_control_solution(X_te, 4, vf, te.example)\n",
    "res.mean()"
   ]
  },
  {
   "cell_type": "code",
   "execution_count": 19,
   "metadata": {},
   "outputs": [
    {
     "name": "stdout",
     "output_type": "stream",
     "text": [
      "0/30 <--\r"
     ]
    },
    {
     "data": {
      "text/plain": [
       "32.98820259504541"
      ]
     },
     "execution_count": 19,
     "metadata": {},
     "output_type": "execute_result"
    }
   ],
   "source": [
    "vf = tc.value_function(te, deg=1, max_depth=2)\n",
    "vf.fit(X_tr)\n",
    "sol, res = optimal_control_solution(X_te, 4, vf, te.example)\n",
    "res.mean()"
   ]
  },
  {
   "cell_type": "code",
   "execution_count": null,
   "metadata": {},
   "outputs": [],
   "source": [
    "vf = tc.value_function(te, deg=2, max_depth=2)\n",
    "vf.fit(X_tr)\n",
    "sol, res = optimal_control_solution(X_te, 4, vf, te.example)\n",
    "res.mean()"
   ]
  },
  {
   "cell_type": "code",
   "execution_count": null,
   "metadata": {},
   "outputs": [],
   "source": [
    "vf = tc.value_function(te, deg=1, max_depth=1)\n",
    "vf.fit(X_tr)\n",
    "sol, res = optimal_control_solution(X_te, 4, vf, te.example)\n",
    "res.mean()"
   ]
  },
  {
   "cell_type": "code",
   "execution_count": null,
   "metadata": {},
   "outputs": [],
   "source": [
    "vf = tc.value_function(te, deg=1, max_depth=1)\n",
    "vf.fit(X_tr)\n",
    "sol, res = optimal_control_solution(X_te, 4, vf, te.example)\n",
    "res.mean()"
   ]
  },
  {
   "cell_type": "code",
   "execution_count": null,
   "metadata": {},
   "outputs": [],
   "source": [
    "res.std()/np.sqrt(1_000_000)"
   ]
  }
 ],
 "metadata": {
  "kernelspec": {
   "display_name": "venv",
   "language": "python",
   "name": "venv"
  },
  "language_info": {
   "codemirror_mode": {
    "name": "ipython",
    "version": 3
   },
   "file_extension": ".py",
   "mimetype": "text/x-python",
   "name": "python",
   "nbconvert_exporter": "python",
   "pygments_lexer": "ipython3",
   "version": "3.8.9"
  }
 },
 "nbformat": 4,
 "nbformat_minor": 2
}
