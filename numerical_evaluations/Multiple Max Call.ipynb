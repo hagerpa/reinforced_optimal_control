{
 "cells": [
  {
   "cell_type": "code",
   "execution_count": 1,
   "metadata": {},
   "outputs": [],
   "source": [
    "import numpy as np\n",
    "from optimal_control.evaluation.test_cases.discrete.multiple_stopping.multiple_max_call import MultipleMaxCallTestCase\n",
    "from optimal_control.solvers.solver import optimal_control_solution\n",
    "from optimal_control.solvers.discrete import RegressionValueFunction\n",
    "from optimal_control.solvers.discrete.multiple_stopping_dual import multiple_stopping_dual"
   ]
  },
  {
   "cell_type": "code",
   "execution_count": 2,
   "metadata": {},
   "outputs": [],
   "source": [
    "tc = MultipleMaxCallTestCase()"
   ]
  },
  {
   "cell_type": "code",
   "execution_count": 3,
   "metadata": {},
   "outputs": [],
   "source": [
    "te = tc.test_environment(\n",
    "        T=2,\n",
    "        J=24, \n",
    "        exercise_rights=4,\n",
    "        strike=100.0,\n",
    "        volatility=0.2,\n",
    "        interest_rate=0.05,\n",
    "        dividend=0.1,\n",
    "        rho=0.0,\n",
    "        dimension=5\n",
    "    )"
   ]
  },
  {
   "cell_type": "code",
   "execution_count": 4,
   "metadata": {},
   "outputs": [],
   "source": [
    "X_tr = te.price_model.sample_paths(te.example.T, te.example.n_time_steps, 100_000, (\"dirac\", 100))\n",
    "X_te = te.price_model.sample_paths(te.example.T, te.example.n_time_steps, 100_000, (\"dirac\", 100))"
   ]
  },
  {
   "cell_type": "code",
   "execution_count": 5,
   "metadata": {},
   "outputs": [],
   "source": [
    "X_dual = te.price_model.sample_paths(te.example.T, te.example.n_time_steps, 10_000, (\"dirac\", 100))"
   ]
  },
  {
   "cell_type": "code",
   "execution_count": 6,
   "metadata": {},
   "outputs": [
    {
     "name": "stdout",
     "output_type": "stream",
     "text": [
      "25/25 ->"
     ]
    },
    {
     "data": {
      "text/plain": [
       "92.08754750632814"
      ]
     },
     "execution_count": 6,
     "metadata": {},
     "output_type": "execute_result"
    }
   ],
   "source": [
    "# deg = 1, I = 1\n",
    "vf = tc.value_function(te, deg=1, max_depth=1, n_reinforced_functions=4, use_order_statistic=True)\n",
    "vf.fit(X_tr)\n",
    "sol, res = optimal_control_solution(X_te, 0, vf, te.example)\n",
    "res.mean()"
   ]
  },
  {
   "cell_type": "code",
   "execution_count": null,
   "metadata": {},
   "outputs": [
    {
     "name": "stdout",
     "output_type": "stream",
     "text": [
      "martingale increments 6/23 ->\r"
     ]
    }
   ],
   "source": [
    "v0_dual, v0_dual_me = multiple_stopping_dual(X_dual, \n",
    "                                              vf, \n",
    "                                              test_environment=te, \n",
    "                                              n_sub_samples=100)\n",
    "v0_dual, v0_dual_me*3"
   ]
  },
  {
   "cell_type": "code",
   "execution_count": null,
   "metadata": {},
   "outputs": [],
   "source": [
    "# deg = 2, I = 0\n",
    "vf = tc.value_function(te, deg=2, max_depth=0, n_reinforced_functions=4, use_order_statistic=True)\n",
    "vf.fit(X_tr)\n",
    "sol, res = optimal_control_solution(X_te, 0, vf, te.example)\n",
    "res.mean()"
   ]
  },
  {
   "cell_type": "code",
   "execution_count": null,
   "metadata": {},
   "outputs": [],
   "source": []
  }
 ],
 "metadata": {
  "kernelspec": {
   "display_name": "venv",
   "language": "python",
   "name": "venv"
  },
  "language_info": {
   "codemirror_mode": {
    "name": "ipython",
    "version": 3
   },
   "file_extension": ".py",
   "mimetype": "text/x-python",
   "name": "python",
   "nbconvert_exporter": "python",
   "pygments_lexer": "ipython3",
   "version": "3.8.9"
  }
 },
 "nbformat": 4,
 "nbformat_minor": 2
}
